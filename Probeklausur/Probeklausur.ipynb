{
 "cells": [
  {
   "cell_type": "markdown",
   "metadata": {},
   "source": [
    "# Vorbereitung - Zelle bitte ausführen"
   ]
  },
  {
   "cell_type": "code",
   "execution_count": 1,
   "metadata": {},
   "outputs": [],
   "source": [
    "# Führen Sie diese Zelle vor Bearbeitung aus\n",
    "import pandas as pd\n",
    "import numpy as np\n",
    "import matplotlib.pyplot as plt\n",
    "import seaborn as sns\n",
    "\n",
    "df = sns.load_dataset(\"mpg\")\n",
    "df2 = df.copy()\n",
    "df3_a = df[['cylinders', 'mpg']].copy()\n",
    "df3_a.rename(columns={'cylinders':'cyl'}, inplace=True)\n",
    "df3_b = df[['cylinders', 'weight']].copy()\n",
    "df3_b.loc[df3_b['cylinders']==4,:] = np.NaN\n",
    "df3_b.set_index('cylinders', inplace=True)\n",
    "df4 = df.copy()\n",
    "df5 = df.copy()\n",
    "df6 = sns.load_dataset('iris')\n",
    "df6.drop(columns=['species'], inplace=True)"
   ]
  },
  {
   "cell_type": "markdown",
   "metadata": {},
   "source": [
    "# Aufgabe 1: Explorative Datenanalyse (5 Punkte)\n",
    "Arbeiten Sie auf dem DataFrame <code>df</code>.\n",
    "\n",
    "### a) Anzahl eindeutiger Werte (0,5 Punkte)\n",
    "Bestimmen Sie möglichst effizient die Anzahl eindeutiger Werte der Spalte <code>cylinders</code> und speichern Sie diese in der Variablen <code>nun</code>"
   ]
  },
  {
   "cell_type": "code",
   "execution_count": 45,
   "metadata": {},
   "outputs": [],
   "source": [
    "# Tragen Sie hier Ihren Code ein:\n"
   ]
  },
  {
   "cell_type": "code",
   "execution_count": null,
   "metadata": {},
   "outputs": [],
   "source": [
    "# Führen Sie diese Zelle nach Bearbeitung aus\n",
    "print(nun)"
   ]
  },
  {
   "cell_type": "markdown",
   "metadata": {},
   "source": [
    "### b) Varianz, Median, häufigster Wert (0,75 Punkte)\n",
    "Bestimmen Sie möglichst effizient die Varianz, den Median, sowie den am häufigsten vorkommenden Wert der Spalte (wenn es mehrere gibt, einen zufälligen Wert) <code>weight</code> und speichern Sie diese in den Variablen <code>r_v</code>, <code>r_me</code> bzw. <code>r_most</code>."
   ]
  },
  {
   "cell_type": "code",
   "execution_count": 44,
   "metadata": {},
   "outputs": [],
   "source": [
    "# Tragen Sie hier Ihren Code ein:\n"
   ]
  },
  {
   "cell_type": "code",
   "execution_count": null,
   "metadata": {},
   "outputs": [],
   "source": [
    "# Führen Sie diese Zelle nach Bearbeitung aus\n",
    "print(r_v)\n",
    "print(r_me)\n",
    "print(r_most)"
   ]
  },
  {
   "cell_type": "markdown",
   "metadata": {},
   "source": [
    "### c) Korrelationsmatrix (1,25 Punkte)\n",
    "Erzeugen Sie eine Korrelationsmatrix für die Spalten <code>displacement</code>, <code>horsepower</code> und<code>acceleration</code>. Speichern Sie diese in der Variablen `cm`."
   ]
  },
  {
   "cell_type": "code",
   "execution_count": 43,
   "metadata": {},
   "outputs": [],
   "source": [
    "# Tragen Sie hier Ihren Code ein:\n"
   ]
  },
  {
   "cell_type": "code",
   "execution_count": null,
   "metadata": {},
   "outputs": [],
   "source": [
    "# Führen Sie diese Zelle nach Bearbeitung aus\n",
    "cm"
   ]
  },
  {
   "cell_type": "markdown",
   "metadata": {},
   "source": [
    "### d) Gruppierung (2,5 Punkte)\n",
    "Berechnen Sie möglichst effizient den Median und Mittelwert der Spalte `weight` sowie den Median der Spalte `acceleration` gruppiert nach der Spalte `cylinders`. Speichern Sie das Ergebnis in einem DataFrame `df_group`.\n",
    "<p>\n",
    "    Dieser sollte wie folgt aussehen:\n",
    "<p>\n",
    "<img src=\"groupby.png\" width=250 align=left>"
   ]
  },
  {
   "cell_type": "code",
   "execution_count": 41,
   "metadata": {},
   "outputs": [],
   "source": [
    "# Tragen Sie hier Ihren Code ein:\n"
   ]
  },
  {
   "cell_type": "code",
   "execution_count": null,
   "metadata": {},
   "outputs": [],
   "source": [
    "# Führen Sie diese Zelle nach Bearbeitung aus\n",
    "df_group"
   ]
  },
  {
   "cell_type": "markdown",
   "metadata": {},
   "source": [
    "# Aufgabe 2: Pre-Processing und EDA (4 Punkte)\n",
    "Arbeiten Sie auf dem DataFrame `df2`.\n",
    "### a) Binning (1 Punkt)\n",
    "Erzeugen Sie im DataFrame `df2` eine neue Spalte 'weight_class' und speichern Sie darin die Klassen der Spalte `weight`, die sich nach einem Binning (von `weight`) mit 3 Bins ergeben."
   ]
  },
  {
   "cell_type": "code",
   "execution_count": 17,
   "metadata": {},
   "outputs": [],
   "source": [
    "# Tragen Sie hier Ihren Code ein:\n"
   ]
  },
  {
   "cell_type": "markdown",
   "metadata": {},
   "source": [
    "### b) Gruppierung nach zwei Attributen (3 Punkte)\n",
    "Gruppieren Sie nach den Spalten `cylinders` und `weight_class` (in dieser Reihenfolge) und berechnen Sie den Mittelwert der Spalte `mpg`. Speichern Sie das Ergebnis in einem DataFrame `df_binned_grouped`. <i>(Teilpunkte 2 Punkte)</i>\n",
    "<br><br>\n",
    "<i>\n",
    "Sollten Sie Aufgabenteil a) nicht gelöst haben, speichern Sie in der Spalte `weight_class` folgenden berechneten Wert: `df.weight % 3`\n",
    "</i>"
   ]
  },
  {
   "cell_type": "code",
   "execution_count": 21,
   "metadata": {},
   "outputs": [],
   "source": [
    "# Tragen Sie hier Ihren Code ein:\n"
   ]
  },
  {
   "cell_type": "code",
   "execution_count": null,
   "metadata": {},
   "outputs": [],
   "source": [
    "# Führen Sie diese Zelle nach Bearbeitung aus\n",
    "df_binned_grouped"
   ]
  },
  {
   "cell_type": "markdown",
   "metadata": {},
   "source": [
    "Mit welcher Reichweite in `mpg` ist bei einem Fahrzeug mit 4 Zylindern und einem Gewicht von 3000lbs zu rechnen, wenn wir den gruppierten DataFrame als Prognosegrundlage verwenden? <i>(Teilpunkte: 0,5 Punkte)</i>"
   ]
  },
  {
   "cell_type": "code",
   "execution_count": null,
   "metadata": {},
   "outputs": [],
   "source": [
    "# Tragen Sie in der folgenden Zeile die Antwort ein (im Kommentar):\n",
    "# "
   ]
  },
  {
   "cell_type": "markdown",
   "metadata": {},
   "source": [
    "# Aufgabe 3: Join (3 Punkte)\n",
    "Nutzen Sie die DataFrames `df3_a`und `df3_b`.\n",
    "<br><br>\n",
    "Führen Sie einen Join über die Spalte `cylinders` bzw. `cyl` der beiden DataFrames durch. Sollten Werte des Join-Attributs in `df3_b` nicht vorhanden sein, soll die Zeile dennoch erhalten bleiben. Umgekehrt gilt dies nicht.<br>\n",
    "Speichern Sie das Ergebnis in dem DataFrame `df3`."
   ]
  },
  {
   "cell_type": "code",
   "execution_count": null,
   "metadata": {},
   "outputs": [],
   "source": [
    "# Tragen Sie hier Ihren Code ein:\n"
   ]
  },
  {
   "cell_type": "code",
   "execution_count": null,
   "metadata": {},
   "outputs": [],
   "source": [
    "# Führen Sie diese Zelle nach Bearbeitung aus\n",
    "df3"
   ]
  },
  {
   "cell_type": "markdown",
   "metadata": {},
   "source": [
    "# Aufgabe 4: Visualisierung (5,5 Punkte)\n",
    "Nutzen Sie den DataFrame `df4`.\n",
    "<br>\n",
    "Denken Sie an plt.show() am Ende jeder Zelle.\n",
    "### a) Visuelle Ausreißererkennung (2 Punkte)\n",
    "Erzeugen Sie eine Grafik, anhand derer Sie die Anzahl der Ausreißer hinsichtlich der Spalte `mpg` gruppiert nach `cylinders` erkennen können. <i>(Teilpunkte: 1,5 Punkte)</i>"
   ]
  },
  {
   "cell_type": "code",
   "execution_count": 54,
   "metadata": {},
   "outputs": [],
   "source": [
    "# Tragen Sie hier Ihren Code ein:\n"
   ]
  },
  {
   "cell_type": "markdown",
   "metadata": {},
   "source": [
    "Bei welcher Anzahl von Zylindern werden die meisten Ausreißerkandidaten erkannt? <i>(Teilpunkte: 0,5 Punkte)</i>"
   ]
  },
  {
   "cell_type": "code",
   "execution_count": 53,
   "metadata": {},
   "outputs": [],
   "source": [
    "# Tragen Sie in der folgenden Zeile die Antwort ein (im Kommentar):\n",
    "# "
   ]
  },
  {
   "cell_type": "markdown",
   "metadata": {},
   "source": [
    "### b) Grafische Untersuchung auf Normalverteilung (1,5 Punkte)\n",
    "Erzeugen Sie eine Grafik, mit der Sie gut beurteilen können, ob die Werte der Spalte `mpg` sich einer Normalverteilung annähern oder nicht. <i>(Teilpunkte: 1 Punkt)</i>"
   ]
  },
  {
   "cell_type": "code",
   "execution_count": null,
   "metadata": {},
   "outputs": [],
   "source": [
    "# Tragen Sie hier Ihren Code ein:\n"
   ]
  },
  {
   "cell_type": "markdown",
   "metadata": {},
   "source": [
    "Ähnelt die Verteilung der einer Normalverteilung? <i>(Teilpunkte: 0,25 Punkte)</i>"
   ]
  },
  {
   "cell_type": "code",
   "execution_count": 63,
   "metadata": {},
   "outputs": [],
   "source": [
    "# Tragen Sie in der folgenden Zeile die Antwort ein (im Kommentar):\n",
    "# "
   ]
  },
  {
   "cell_type": "markdown",
   "metadata": {},
   "source": [
    "Nennen Sie den ungefähren Wertebereich der am häufigsten vorkommenden Werte von `mpg`. <i>(Teilpunkte: 0,25 Punkte)</i>"
   ]
  },
  {
   "cell_type": "code",
   "execution_count": 64,
   "metadata": {},
   "outputs": [],
   "source": [
    "# Tragen Sie in der folgenden Zeile die Antwort ein (im Kommentar):\n",
    "# "
   ]
  },
  {
   "cell_type": "markdown",
   "metadata": {},
   "source": [
    "### c) Visualisierung der Abhängigkeit zwischen zwei Variablen (2 Punkte)\n",
    "Erzeugen Sie eine Grafik, mit der Sie beurteilen können, ob die Spalten `displacement` und `horsepower` in einer linearen Abhängigkeit voneinander stehen. Darüber hinaus soll noch farblich dargestellt werden, welchen `cylinders`-Wert die Datenpunkte haben. <br>\n",
    "Es soll nur dies visualisiert werden! <i>(Teilpunkte: 1,75 Punkte)</i>"
   ]
  },
  {
   "cell_type": "code",
   "execution_count": null,
   "metadata": {},
   "outputs": [],
   "source": [
    "# Tragen Sie hier Ihren Code ein:\n"
   ]
  },
  {
   "cell_type": "markdown",
   "metadata": {},
   "source": [
    "Besteht tendenziell eine lineare Abhängigkeit? <i>(Teilpunkte: 0,25 Punkte)</i>"
   ]
  },
  {
   "cell_type": "code",
   "execution_count": 72,
   "metadata": {},
   "outputs": [],
   "source": [
    "# Tragen Sie in der folgenden Zeile die Antwort ein (im Kommentar):\n",
    "# "
   ]
  },
  {
   "cell_type": "markdown",
   "metadata": {},
   "source": [
    "# Aufgabe 5: Pipelines (9,5 Punkte)\n",
    "Arbeiten Sie auf dem DataFrame `df5`.\n",
    "Die Feature-Spalten sind `displacement`, `weight`, `horsepower`.\n",
    "Das Target ist `mpg`.\n",
    "### a) Splitting (2 Punkte)\n",
    "Erzeugen Sie einen Split des DataFrames `df5` in einen Trainings- und Testdatensatz (Verhältnis 85% Trainingsdaten, 15% Testdaten). Speichern Sie in den Variablen `X_train, X_test, y_train, y_test`.\n",
    "<br> Importieren Sie notwendige Klassen / Packages!"
   ]
  },
  {
   "cell_type": "code",
   "execution_count": 100,
   "metadata": {},
   "outputs": [],
   "source": [
    "# Tragen Sie hier Ihren Code ein:\n"
   ]
  },
  {
   "cell_type": "code",
   "execution_count": null,
   "metadata": {},
   "outputs": [],
   "source": [
    "# Diese Zelle können Sie nach Bearbeitung ausführen, um auf Validität zu prüfen\n",
    "print(\"Anzahl Datenpunkte insgesamt: {}\".format(len(df5)))\n",
    "print(\"Anzahl Spalten im Originaldatensatz: {}\".format(df5.shape[1]))\n",
    "\n",
    "print(\"Shape von X_train: {}\".format(X_train.shape))\n",
    "print(\"Shape von X_test: {}\".format(X_test.shape))\n",
    "print(\"Shape von y_train: {}\".format(y_train.shape))\n",
    "print(\"Shape von y_test: {}\".format(y_test.shape))"
   ]
  },
  {
   "cell_type": "markdown",
   "metadata": {},
   "source": [
    "### b) Pipeline-Definition (3,5 Punkte)\n",
    "Erzeugen Sie eine Pipeline (referenziert über die Variable `pipeline`), die folgende Schritte durchführt:\n",
    "- Imputation mit Mean-Strategie\n",
    "- Min-Max-Scaling\n",
    "- Lineare Regression\n",
    "<br>\n",
    "Importieren Sie notwendige Klassen / Packages!"
   ]
  },
  {
   "cell_type": "code",
   "execution_count": 102,
   "metadata": {},
   "outputs": [],
   "source": [
    "# Tragen Sie hier Ihren Code ein:\n"
   ]
  },
  {
   "cell_type": "markdown",
   "metadata": {},
   "source": [
    "### c) Training der Pipeline (0,75 Punkte)\n",
    "Trainieren Sie die Pipeline `pipeline` mit den Trainingsdaten."
   ]
  },
  {
   "cell_type": "code",
   "execution_count": 136,
   "metadata": {},
   "outputs": [],
   "source": [
    "# Tragen Sie hier Ihren Code ein:\n"
   ]
  },
  {
   "cell_type": "markdown",
   "metadata": {},
   "source": [
    "### d) Bewertung der Pipeline (0,75 Punkte)\n",
    "Geben Sie R^2 der Pipeline unter Verwendung der Testdaten aus."
   ]
  },
  {
   "cell_type": "code",
   "execution_count": 135,
   "metadata": {},
   "outputs": [],
   "source": [
    "# Tragen Sie hier Ihren Code ein:\n"
   ]
  },
  {
   "cell_type": "markdown",
   "metadata": {},
   "source": [
    "### e) Prognose (1 Punkt)\n",
    "Prognostizieren Sie den Verbrauch (`mpg`) für ein Auto mit 3000 Hubraum (`displacement`), 2500 Gewicht (`weight`) und 80 PS (`horsepower`) unter Verwendung der Pipeline."
   ]
  },
  {
   "cell_type": "code",
   "execution_count": null,
   "metadata": {},
   "outputs": [],
   "source": [
    "# Tragen Sie hier Ihren Code ein:\n"
   ]
  },
  {
   "cell_type": "markdown",
   "metadata": {},
   "source": [
    "### f) Achsenabschnitt und Koeffizienten (1,5 Punkte)\n",
    "Speichern Sie die Koeffizienten und den Achsenabschnitt aus dem linearen Regressionsmodell in den Variablen `coef` und `intercept`."
   ]
  },
  {
   "cell_type": "code",
   "execution_count": null,
   "metadata": {},
   "outputs": [],
   "source": [
    "# Tragen Sie hier Ihren Code ein:\n"
   ]
  },
  {
   "cell_type": "code",
   "execution_count": null,
   "metadata": {},
   "outputs": [],
   "source": [
    "# Führen Sie diese Zelle nach Bearbeitung aus\n",
    "print(coef)\n",
    "print(intercept)"
   ]
  },
  {
   "cell_type": "markdown",
   "metadata": {},
   "source": [
    "# Aufgabe 6: Clustering (2 Punkte)\n",
    "Arbeiten Sie mit DataFrame `df6`.\n",
    "<br> Importieren Sie notwendige Klassen / Packages!\n",
    "### a) Prototyp-basiertes Clustering (1,5 Punkte)\n",
    "Führen Sie ein geeignetes Prototyp-basiertes Clustering mit 2 Prototypen durch."
   ]
  },
  {
   "cell_type": "code",
   "execution_count": 133,
   "metadata": {},
   "outputs": [],
   "source": [
    "# Tragen Sie hier Ihren Code ein:\n"
   ]
  },
  {
   "cell_type": "markdown",
   "metadata": {},
   "source": [
    "### b) Clustering Performance (0,5 Punkte)\n",
    "Speichern Sie den \"Sum-of-Squared-Error\" in der Variablen SSE."
   ]
  },
  {
   "cell_type": "code",
   "execution_count": 132,
   "metadata": {},
   "outputs": [],
   "source": [
    "# Tragen Sie hier Ihren Code ein:\n"
   ]
  },
  {
   "cell_type": "code",
   "execution_count": null,
   "metadata": {},
   "outputs": [],
   "source": [
    "# Führen Sie diese Zelle nach Bearbeitung aus\n",
    "print(sse)"
   ]
  }
 ],
 "metadata": {
  "kernelspec": {
   "display_name": "Python 3",
   "language": "python",
   "name": "python3"
  },
  "language_info": {
   "codemirror_mode": {
    "name": "ipython",
    "version": 3
   },
   "file_extension": ".py",
   "mimetype": "text/x-python",
   "name": "python",
   "nbconvert_exporter": "python",
   "pygments_lexer": "ipython3",
   "version": "3.6.6"
  }
 },
 "nbformat": 4,
 "nbformat_minor": 2
}
